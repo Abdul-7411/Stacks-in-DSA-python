{
 "cells": [
  {
   "cell_type": "code",
   "execution_count": 1,
   "id": "f348bf32",
   "metadata": {},
   "outputs": [],
   "source": [
    "class Node:\n",
    "    def __init__(self,value):\n",
    "        self.data = value\n",
    "        self.next = None "
   ]
  },
  {
   "cell_type": "code",
   "execution_count": 2,
   "id": "79c2f923",
   "metadata": {},
   "outputs": [],
   "source": [
    "class Stack:\n",
    "    def __init__(self):\n",
    "        self.top = None\n",
    "        \n",
    "    def isempty(self):\n",
    "        if self.top == None:\n",
    "            return True\n",
    "        else:\n",
    "            False\n",
    "    \n",
    "    def push(self,value):\n",
    "        new_node = Node(value)\n",
    "        new_node.next = self.top\n",
    "        \n",
    "        self.top = new_node\n",
    "    \n",
    "    def peek(self):\n",
    "        if self.isempty():\n",
    "            return \"Stack is Empty\"\n",
    "        else:\n",
    "            return self.top.data\n",
    "    \n",
    "    def pop(self):\n",
    "        if self.isempty():\n",
    "            return \"Stack is empty\"\n",
    "        else:\n",
    "            data = self.top.data\n",
    "            self.top = self.top.next\n",
    "            return data\n",
    "       \n",
    "    def traverse(self):\n",
    "        temp = self.top\n",
    "        while temp!=None:\n",
    "            print(temp.data,end=' ')\n",
    "            temp = temp.next\n",
    "            \n",
    "        "
   ]
  },
  {
   "cell_type": "code",
   "execution_count": 3,
   "id": "ac16ce72",
   "metadata": {},
   "outputs": [],
   "source": [
    "def reverse_string(txt):\n",
    "    s = Stack()\n",
    "    for i in txt:\n",
    "        s.push(i)\n",
    "    res = \"\"\n",
    "    while s != s.isempty():\n",
    "        \n",
    "        res = res + s.pop()\n",
    "    return res"
   ]
  },
  {
   "cell_type": "code",
   "execution_count": 4,
   "id": "6b23984f",
   "metadata": {},
   "outputs": [],
   "source": [
    "s1 = Stack()\n",
    "s2 = Stack()\n",
    "def enq_deq(value,operation):\n",
    "    if operation == 'e':\n",
    "        s1.push(value)\n",
    "        return s1.traverse()\n",
    "    else:\n",
    "        if s2.isempty():\n",
    "            if s1.isempty():\n",
    "                return \"Stacks are empty\"\n",
    "            \n",
    "            while not s1.isempty():\n",
    "                s2.push(s1.pop())\n",
    "        popped_value = s2.pop()\n",
    "            \n",
    "        return s2.traverse()\n",
    "                "
   ]
  },
  {
   "cell_type": "code",
   "execution_count": 5,
   "id": "5c4e3948",
   "metadata": {},
   "outputs": [
    {
     "name": "stdout",
     "output_type": "stream",
     "text": [
      "2 3 2 4 3 2 3 4 "
     ]
    }
   ],
   "source": [
    "enq_deq(2,'e')\n",
    "enq_deq(3,'e')\n",
    "enq_deq(4,'e')\n",
    "enq_deq(2,'d')"
   ]
  },
  {
   "cell_type": "code",
   "execution_count": null,
   "id": "e8c21dcb",
   "metadata": {},
   "outputs": [],
   "source": []
  }
 ],
 "metadata": {
  "kernelspec": {
   "display_name": "Python 3",
   "language": "python",
   "name": "python3"
  },
  "language_info": {
   "codemirror_mode": {
    "name": "ipython",
    "version": 3
   },
   "file_extension": ".py",
   "mimetype": "text/x-python",
   "name": "python",
   "nbconvert_exporter": "python",
   "pygments_lexer": "ipython3",
   "version": "3.13.0"
  }
 },
 "nbformat": 4,
 "nbformat_minor": 5
}
